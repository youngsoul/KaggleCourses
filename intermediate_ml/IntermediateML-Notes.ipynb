{
 "cells": [
  {
   "cell_type": "markdown",
   "metadata": {},
   "source": [
    "\n",
    "* Unpack this line\n",
    "\n",
    "list(X_train.isna().sum().reset_index(name='count').query(\"count > 0\")['index'].values)\n",
    "\n",
    "* make_column_transformer\n",
    "\n",
    "ct = make_column_transformer(\n",
    "(SimpleImputer(), ['LotFrontage']),\n",
    "    (SimpleImputer(strategy='constant', fill_value=0), ['MasVnrArea',\n",
    " 'BsmtFinSF1',\n",
    " 'BsmtFinSF2',\n",
    " 'BsmtUnfSF',\n",
    " 'TotalBsmtSF',\n",
    " 'BsmtFullBath',\n",
    " 'BsmtHalfBath',\n",
    " 'GarageYrBlt',\n",
    " 'GarageCars',\n",
    " 'GarageArea']),\n",
    "    remainder='passthrough'\n",
    ")\n",
    "\n",
    "* one hot encoding\n",
    "\n",
    "One-hot encoding generally does not perform well if the categorical variable takes on a large number of values (i.e., you generally won't use it for variables taking more than 15 different values).\n",
    "\n",
    "* get list of object ( categorical ) columns\n",
    "\n",
    "// Get list of categorical variables\n",
    "s = (X_train.dtypes == 'object')\n",
    "object_cols = list(s[s].index)\n",
    "\n",
    "print(\"Categorical variables:\")\n",
    "print(object_cols)\n",
    "\n",
    "OR\n",
    "\n",
    "num_cols = list(df.select_dtypes(exclude=['object']).columns)\n",
    "num_cols\n",
    "\n",
    "obj_cols = list(df.select_dtypes(include=['object']).columns)\n",
    "obj_cols\n",
    "\n",
    "* LabelEncoder\n",
    "This is documented as only being specific to the 'y' value not the 'x' values.\n",
    "\n",
    "Shouldnt we use OrdinalEncoder instead?\n",
    "\n",
    "\n",
    "* Score from Approach 3 (One-Hot Encoding)\n",
    "This approach of getting the one hot encoded process is tedious\n"
   ]
  },
  {
   "cell_type": "markdown",
   "metadata": {},
   "source": [
    "## Categorical Variables\n",
    "\n",
    "* Tricky code\n",
    "// Get number of unique entries in each column with categorical data\n",
    "object_nunique = list(map(lambda col: X_train[col].nunique(), object_cols))\n",
    "d = dict(zip(object_cols, object_nunique))\n",
    "\n",
    "// Print number of unique entries by column, in ascending order\n",
    "sorted(d.items(), key=lambda x: x[1])\n"
   ]
  },
  {
   "cell_type": "markdown",
   "metadata": {},
   "source": [
    "## Pipelines\n"
   ]
  },
  {
   "cell_type": "markdown",
   "metadata": {},
   "source": [
    "## Cross Validation"
   ]
  }
 ],
 "metadata": {
  "kernelspec": {
   "display_name": "Python 3",
   "language": "python",
   "name": "python3"
  },
  "language_info": {
   "codemirror_mode": {
    "name": "ipython",
    "version": 3
   },
   "file_extension": ".py",
   "mimetype": "text/x-python",
   "name": "python",
   "nbconvert_exporter": "python",
   "pygments_lexer": "ipython3",
   "version": "3.8.2"
  },
  "toc": {
   "base_numbering": 1,
   "nav_menu": {},
   "number_sections": true,
   "sideBar": true,
   "skip_h1_title": false,
   "title_cell": "Table of Contents",
   "title_sidebar": "Contents",
   "toc_cell": false,
   "toc_position": {},
   "toc_section_display": true,
   "toc_window_display": false
  }
 },
 "nbformat": 4,
 "nbformat_minor": 4
}
